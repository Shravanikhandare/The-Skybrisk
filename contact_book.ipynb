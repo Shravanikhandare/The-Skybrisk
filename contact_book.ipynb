{
 "cells": [
  {
   "cell_type": "code",
   "execution_count": 2,
   "id": "b1b5fd57-3948-4af2-9d62-19f4ba87823c",
   "metadata": {},
   "outputs": [
    {
     "name": "stdout",
     "output_type": "stream",
     "text": [
      "Welcome to the Contact Book Application!\n",
      "\n",
      "==================================================\n",
      "         📞 CONTACT BOOK APPLICATION 📞\n",
      "==================================================\n",
      "1. Add New Contact\n",
      "2. View All Contacts\n",
      "3. Search Contacts\n",
      "4. Exit\n",
      "==================================================\n"
     ]
    },
    {
     "name": "stdin",
     "output_type": "stream",
     "text": [
      "Enter your choice (1-4):  1\n"
     ]
    },
    {
     "name": "stdout",
     "output_type": "stream",
     "text": [
      "\n",
      "=== ADD NEW CONTACT ===\n"
     ]
    },
    {
     "name": "stdin",
     "output_type": "stream",
     "text": [
      "Enter name:  shravani khandare\n",
      "Enter phone number:  1234567890\n",
      "Enter email address:  xyz@gmail.com\n",
      "Enter address:  latur\n"
     ]
    },
    {
     "name": "stdout",
     "output_type": "stream",
     "text": [
      "Contact 'shravani khandare' already exists!\n"
     ]
    },
    {
     "name": "stdin",
     "output_type": "stream",
     "text": [
      "\n",
      "Press Enter to continue... 1\n"
     ]
    },
    {
     "name": "stdout",
     "output_type": "stream",
     "text": [
      "\n",
      "==================================================\n",
      "         📞 CONTACT BOOK APPLICATION 📞\n",
      "==================================================\n",
      "1. Add New Contact\n",
      "2. View All Contacts\n",
      "3. Search Contacts\n",
      "4. Exit\n",
      "==================================================\n"
     ]
    },
    {
     "name": "stdin",
     "output_type": "stream",
     "text": [
      "Enter your choice (1-4):  1\n"
     ]
    },
    {
     "name": "stdout",
     "output_type": "stream",
     "text": [
      "\n",
      "=== ADD NEW CONTACT ===\n"
     ]
    },
    {
     "name": "stdin",
     "output_type": "stream",
     "text": [
      "Enter name:  mayuri khandare\n",
      "Enter phone number:  0987654321\n",
      "Enter email address:  abc@gmail.com\n",
      "Enter address:  pune\n"
     ]
    },
    {
     "name": "stdout",
     "output_type": "stream",
     "text": [
      "✓ Contact 'mayuri khandare' added successfully!\n"
     ]
    },
    {
     "name": "stdin",
     "output_type": "stream",
     "text": [
      "\n",
      "Press Enter to continue... 2\n"
     ]
    },
    {
     "name": "stdout",
     "output_type": "stream",
     "text": [
      "\n",
      "==================================================\n",
      "         📞 CONTACT BOOK APPLICATION 📞\n",
      "==================================================\n",
      "1. Add New Contact\n",
      "2. View All Contacts\n",
      "3. Search Contacts\n",
      "4. Exit\n",
      "==================================================\n"
     ]
    },
    {
     "name": "stdin",
     "output_type": "stream",
     "text": [
      "Enter your choice (1-4):  2\n"
     ]
    },
    {
     "name": "stdout",
     "output_type": "stream",
     "text": [
      "\n",
      "=== ALL CONTACTS ===\n",
      "Name                 Phone           Email                     Address                       \n",
      "------------------------------------------------------------------------------------------\n",
      "shravani khandare    1234567890      xyz@gmail.com             latur                         \n",
      "mayuri khandare      0987654321      abc@gmail.com             pune                          \n",
      "\n",
      "Total contacts: 2\n"
     ]
    },
    {
     "name": "stdin",
     "output_type": "stream",
     "text": [
      "\n",
      "Press Enter to continue... 3\n"
     ]
    },
    {
     "name": "stdout",
     "output_type": "stream",
     "text": [
      "\n",
      "==================================================\n",
      "         📞 CONTACT BOOK APPLICATION 📞\n",
      "==================================================\n",
      "1. Add New Contact\n",
      "2. View All Contacts\n",
      "3. Search Contacts\n",
      "4. Exit\n",
      "==================================================\n"
     ]
    },
    {
     "name": "stdin",
     "output_type": "stream",
     "text": [
      "Enter your choice (1-4):  3\n"
     ]
    },
    {
     "name": "stdout",
     "output_type": "stream",
     "text": [
      "\n",
      "=== SEARCH CONTACTS ===\n"
     ]
    },
    {
     "name": "stdin",
     "output_type": "stream",
     "text": [
      "Enter name to search:  shravani\n"
     ]
    },
    {
     "name": "stdout",
     "output_type": "stream",
     "text": [
      "\n",
      "Found 1 contact(s):\n",
      "Name                 Phone           Email                     Address                       \n",
      "------------------------------------------------------------------------------------------\n",
      "shravani khandare    1234567890      xyz@gmail.com             latur                         \n"
     ]
    },
    {
     "name": "stdin",
     "output_type": "stream",
     "text": [
      "\n",
      "Press Enter to continue... 4\n"
     ]
    },
    {
     "name": "stdout",
     "output_type": "stream",
     "text": [
      "\n",
      "==================================================\n",
      "         📞 CONTACT BOOK APPLICATION 📞\n",
      "==================================================\n",
      "1. Add New Contact\n",
      "2. View All Contacts\n",
      "3. Search Contacts\n",
      "4. Exit\n",
      "==================================================\n"
     ]
    },
    {
     "name": "stdin",
     "output_type": "stream",
     "text": [
      "Enter your choice (1-4):  4\n"
     ]
    },
    {
     "name": "stdout",
     "output_type": "stream",
     "text": [
      "\n",
      "Thank you for using Contact Book! Goodbye! 👋\n"
     ]
    }
   ],
   "source": [
    "import os\n",
    "\n",
    "class ContactBook:\n",
    "    def __init__(self, filename=\"contacts.txt\"):\n",
    "        \"\"\"Initialize the contact book with a filename\"\"\"\n",
    "        self.filename = filename\n",
    "        self.ensure_file_exists()\n",
    "\n",
    "    def ensure_file_exists(self):\n",
    "        \"\"\"Create the contacts file if it doesn't exist\"\"\"\n",
    "        if not os.path.exists(self.filename):\n",
    "            with open(self.filename, 'w') as file:\n",
    "                file.write(\"\")  # Create empty file\n",
    "\n",
    "    def add_contact(self):\n",
    "        \"\"\"Add a new contact to the contact book\"\"\"\n",
    "        print(\"\\n=== ADD NEW CONTACT ===\")\n",
    "\n",
    "        # Get contact details from user\n",
    "        name = input(\"Enter name: \").strip()\n",
    "        if not name:\n",
    "            print(\"Error: Name cannot be empty!\")\n",
    "            return\n",
    "\n",
    "        phone = input(\"Enter phone number: \").strip()\n",
    "        email = input(\"Enter email address: \").strip()\n",
    "        address = input(\"Enter address: \").strip()\n",
    "\n",
    "        # Check if contact already exists\n",
    "        if self.contact_exists(name):\n",
    "            print(f\"Contact '{name}' already exists!\")\n",
    "            return\n",
    "\n",
    "        # Write contact to file\n",
    "        try:\n",
    "            with open(self.filename, 'a') as file:\n",
    "                \n",
    "                file.write(f\"{name}|{phone}|{email}|{address}\\n\")\n",
    "            print(f\"✓ Contact '{name}' added successfully!\")\n",
    "        except Exception as e:\n",
    "            print(f\"Error adding contact: {e}\")\n",
    "\n",
    "    def view_all_contacts(self):\n",
    "        \"\"\"Display all contacts from the file\"\"\"\n",
    "        print(\"\\n=== ALL CONTACTS ===\")\n",
    "\n",
    "        try:\n",
    "            with open(self.filename, 'r') as file:\n",
    "                contacts = file.readlines()\n",
    "\n",
    "            if not contacts:\n",
    "                print(\"No contacts found.\")\n",
    "                return\n",
    "\n",
    "            # Display header\n",
    "            print(f\"{'Name':<20} {'Phone':<15} {'Email':<25} {'Address':<30}\")\n",
    "            print(\"-\" * 90)\n",
    "\n",
    "            # Display each contact\n",
    "            for i, contact in enumerate(contacts, 1):\n",
    "                contact = contact.strip()\n",
    "                if contact:  # Skip empty lines\n",
    "                    parts = contact.split('|')\n",
    "                    if len(parts) >= 4:\n",
    "                        name, phone, email, address = parts[0], parts[1], parts[2], parts[3]\n",
    "                        print(f\"{name:<20} {phone:<15} {email:<25} {address:<30}\")\n",
    "                    else:\n",
    "                        print(f\"Invalid contact format: {contact}\")\n",
    "\n",
    "            print(f\"\\nTotal contacts: {len([c for c in contacts if c.strip()])}\")\n",
    "\n",
    "        except FileNotFoundError:\n",
    "            print(\"Contacts file not found.\")\n",
    "        except Exception as e:\n",
    "            print(f\"Error reading contacts: {e}\")\n",
    "\n",
    "    def search_contacts(self):\n",
    "        \"\"\"Search for contacts by name\"\"\"\n",
    "        print(\"\\n=== SEARCH CONTACTS ===\")\n",
    "\n",
    "        search_term = input(\"Enter name to search: \").strip().lower()\n",
    "        if not search_term:\n",
    "            print(\"Error: Search term cannot be empty!\")\n",
    "            return\n",
    "\n",
    "        try:\n",
    "            with open(self.filename, 'r') as file:\n",
    "                contacts = file.readlines()\n",
    "\n",
    "            found_contacts = []\n",
    "\n",
    "            for contact in contacts:\n",
    "                contact = contact.strip()\n",
    "                if contact:\n",
    "                    parts = contact.split('|')\n",
    "                    if len(parts) >= 4:\n",
    "                        name = parts[0].lower()\n",
    "                        if search_term in name:\n",
    "                            found_contacts.append(contact)\n",
    "\n",
    "            if found_contacts:\n",
    "                print(f\"\\nFound {len(found_contacts)} contact(s):\")\n",
    "                print(f\"{'Name':<20} {'Phone':<15} {'Email':<25} {'Address':<30}\")\n",
    "                print(\"-\" * 90)\n",
    "\n",
    "                for contact in found_contacts:\n",
    "                    parts = contact.split('|')\n",
    "                    name, phone, email, address = parts[0], parts[1], parts[2], parts[3]\n",
    "                    print(f\"{name:<20} {phone:<15} {email:<25} {address:<30}\")\n",
    "            else:\n",
    "                print(f\"No contacts found containing '{search_term}'\")\n",
    "\n",
    "        except FileNotFoundError:\n",
    "            print(\"Contacts file not found.\")\n",
    "        except Exception as e:\n",
    "            print(f\"Error searching contacts: {e}\")\n",
    "\n",
    "    def contact_exists(self, name):\n",
    "        \"\"\"Check if a contact with the given name already exists\"\"\"\n",
    "        try:\n",
    "            with open(self.filename, 'r') as file:\n",
    "                contacts = file.readlines()\n",
    "\n",
    "            for contact in contacts:\n",
    "                contact = contact.strip()\n",
    "                if contact:\n",
    "                    parts = contact.split('|')\n",
    "                    if len(parts) >= 1 and parts[0].lower() == name.lower():\n",
    "                        return True\n",
    "            return False\n",
    "\n",
    "        except FileNotFoundError:\n",
    "            return False\n",
    "        except Exception:\n",
    "            return False\n",
    "\n",
    "    def display_menu(self):\n",
    "        \"\"\"Display the main menu options\"\"\"\n",
    "        print(\"\\n\" + \"=\"*50)\n",
    "        print(\"         📞 CONTACT BOOK APPLICATION 📞\")\n",
    "        print(\"=\"*50)\n",
    "        print(\"1. Add New Contact\")\n",
    "        print(\"2. View All Contacts\")\n",
    "        print(\"3. Search Contacts\")\n",
    "        print(\"4. Exit\")\n",
    "        print(\"=\"*50)\n",
    "\n",
    "    def run(self):\n",
    "        \"\"\"Main application loop\"\"\"\n",
    "        print(\"Welcome to the Contact Book Application!\")\n",
    "\n",
    "        while True:\n",
    "            self.display_menu()\n",
    "\n",
    "            try:\n",
    "                choice = input(\"Enter your choice (1-4): \").strip()\n",
    "\n",
    "                if choice == '1':\n",
    "                    self.add_contact()\n",
    "                elif choice == '2':\n",
    "                    self.view_all_contacts()\n",
    "                elif choice == '3':\n",
    "                    self.search_contacts()\n",
    "                elif choice == '4':\n",
    "                    print(\"\\nThank you for using Contact Book! Goodbye! 👋\")\n",
    "                    break\n",
    "                else:\n",
    "                    print(\"❌ Invalid choice! Please enter 1, 2, 3, or 4.\")\n",
    "\n",
    "                \n",
    "                input(\"\\nPress Enter to continue...\")\n",
    "\n",
    "            except KeyboardInterrupt:\n",
    "                print(\"\\n\\nApplication interrupted. Goodbye!\")\n",
    "                break\n",
    "            except Exception as e:\n",
    "                print(f\"An unexpected error occurred: {e}\")\n",
    "\n",
    "\n",
    "if __name__ == \"__main__\":\n",
    "    # Create and run the contact book application\n",
    "    contact_book = ContactBook()\n",
    "    contact_book.run()\n"
   ]
  },
  {
   "cell_type": "code",
   "execution_count": null,
   "id": "ae1531a5-caf4-4112-95e1-a9c90273dc78",
   "metadata": {},
   "outputs": [],
   "source": []
  }
 ],
 "metadata": {
  "kernelspec": {
   "display_name": "Python [conda env:base] *",
   "language": "python",
   "name": "conda-base-py"
  },
  "language_info": {
   "codemirror_mode": {
    "name": "ipython",
    "version": 3
   },
   "file_extension": ".py",
   "mimetype": "text/x-python",
   "name": "python",
   "nbconvert_exporter": "python",
   "pygments_lexer": "ipython3",
   "version": "3.13.5"
  }
 },
 "nbformat": 4,
 "nbformat_minor": 5
}
